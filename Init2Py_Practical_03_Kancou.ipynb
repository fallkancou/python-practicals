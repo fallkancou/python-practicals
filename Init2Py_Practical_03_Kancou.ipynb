{
 "cells": [
  {
   "cell_type": "markdown",
   "metadata": {
    "id": "12_fdbLn8p4A"
   },
   "source": [
    "\n",
    "\n",
    "    \n",
    "#    <center> <b> <span style=\"color:orange;\" >  `Python for Scientific Computing and Software Engineering ` </span> </b></center>\n",
    "\n",
    "\n",
    "## <center> <b> <span style=\"color:orange;\"> An Initiation to Programming using Python (Init2Py) </span> </b></center>\n",
    "\n",
    "### <center> <b> <span style=\"color:blue;\"> Travaux Pratiques: Objets itérables ou conteneurs</span> </b></center>\n"
   ]
  },
  {
   "cell_type": "markdown",
   "metadata": {
    "id": "E_ZB23H68p4D"
   },
   "source": [
    "###  <center> <b> <span style=\"color:blue;\"> Listes </span> </b></center>"
   ]
  },
  {
   "cell_type": "code",
   "execution_count": null,
   "metadata": {
    "id": "TAzYC_Ev8p4F"
   },
   "outputs": [],
   "source": []
  },
  {
   "cell_type": "markdown",
   "metadata": {
    "id": "H0cIcjGk8p4G"
   },
   "source": [
    "#### **Exercice 00:** \n",
    ">**Déclarer une liste vide.**"
   ]
  },
  {
   "cell_type": "code",
   "execution_count": 2,
   "metadata": {
    "id": "45QEMilz8p4I"
   },
   "outputs": [
    {
     "name": "stdout",
     "output_type": "stream",
     "text": [
      "[]\n"
     ]
    }
   ],
   "source": [
    "liste=[]\n",
    "print(liste)"
   ]
  },
  {
   "cell_type": "markdown",
   "metadata": {
    "id": "zZ0XnwpB8p4J"
   },
   "source": [
    "#### **Exercice 01:** \n",
    ">**Déclarer une liste de plus de 5 éléments.**"
   ]
  },
  {
   "cell_type": "code",
   "execution_count": 14,
   "metadata": {
    "id": "HV32hLfA8p4L"
   },
   "outputs": [
    {
     "name": "stdout",
     "output_type": "stream",
     "text": [
      "['bonjour', 2, 'maman', 5.6, 'papa']\n"
     ]
    }
   ],
   "source": [
    "liste1=['bonjour',2,'maman',5.6,'papa']\n",
    "print(liste1)"
   ]
  },
  {
   "cell_type": "markdown",
   "metadata": {
    "id": "tJpy6kNz8p4M"
   },
   "source": [
    "#### **Exercice 02:** \n",
    ">**Trouver la longueur de votre liste.**"
   ]
  },
  {
   "cell_type": "code",
   "execution_count": 4,
   "metadata": {
    "id": "627A_RNw8p4O"
   },
   "outputs": [
    {
     "name": "stdout",
     "output_type": "stream",
     "text": [
      "5\n"
     ]
    }
   ],
   "source": [
    "longueur=len(liste1)\n",
    "print(longueur)"
   ]
  },
  {
   "cell_type": "markdown",
   "metadata": {
    "id": "unFrwT5t8p4Q"
   },
   "source": [
    "#### **Exercice 03:** \n",
    ">**Obtenez le premier élément, l'élément central et le dernier élément de la liste.**\n",
    "\n"
   ]
  },
  {
   "cell_type": "code",
   "execution_count": 5,
   "metadata": {
    "id": "MUuc1gaQ8p4R"
   },
   "outputs": [
    {
     "name": "stdout",
     "output_type": "stream",
     "text": [
      "bonjour\n"
     ]
    }
   ],
   "source": [
    "premier=liste1[0]\n",
    "print(premier)"
   ]
  },
  {
   "cell_type": "code",
   "execution_count": 12,
   "metadata": {},
   "outputs": [
    {
     "name": "stdout",
     "output_type": "stream",
     "text": [
      "maman\n"
     ]
    }
   ],
   "source": [
    "liste1=['bonjour',2,'maman',5.6,'papa']\n",
    "if len(liste1)%2==0:\n",
    "    print(liste1[len(liste1)//2])\n",
    "else:\n",
    "    print(liste1[len(liste1)//2])\n"
   ]
  },
  {
   "cell_type": "markdown",
   "metadata": {
    "id": "4Rqp8q0L8p4R"
   },
   "source": [
    "#### **Exercice 04:** \n",
    ">**Déclarez une liste appelée mixed_data_types, mettez votre (nom, âge, taille, état civil, adresse).**"
   ]
  },
  {
   "cell_type": "code",
   "execution_count": 15,
   "metadata": {
    "id": "EoZPW2UH8p4S"
   },
   "outputs": [
    {
     "name": "stdout",
     "output_type": "stream",
     "text": [
      "['nom', 'age', 'taille', 'etat civil', 'adresse']\n"
     ]
    }
   ],
   "source": [
    "mixed_data_types=['nom','age','taille','etat civil','adresse']\n",
    "print(mixed_data_types)"
   ]
  },
  {
   "cell_type": "markdown",
   "metadata": {
    "id": "OPYSNV1l8p4T"
   },
   "source": [
    "#### **Exercice 05:** \n",
    "\n",
    "    1. Déclarez une variable liste appelée it_companies et attribuez les valeurs initiales Facebook, Google, Microsoft, Apple, IBM, Oracle et Amazon.\n",
    "\n",
    "    2. Imprimez la liste à l'aide de print()\n",
    "\n",
    "    3. Imprimez le nombre d'entreprises dans la liste\n",
    "\n",
    "    4. Imprimez la première, la moyenne et la dernière entreprise\n",
    "\n",
    "    5. Imprimez la liste après avoir modifié l'une des entreprises.\n",
    "\n",
    "    6. Ajout d'une entreprise informatique à it_companies\n",
    "\n",
    "    7. Insérer une entreprise informatique au milieu de la liste des entreprises\n",
    "\n",
    "    8. Changez le nom d'une des it_companies en majuscule (sauf IBM !)\n",
    "\n",
    "    9. Joignez les it_companies avec une chaîne '# ; '.\n",
    "\n",
    "    10. Vérifier si une certaine entreprise existe dans la liste it_companies.\n",
    "\n",
    "    11. Trier la liste en utilisant la méthode sort()\n",
    "\n",
    "    12. Inversez la liste par ordre décroissant à l'aide de la méthode reverse().\n",
    "\n",
    "    13. Supprimez les 3 premières entreprises de la liste.\n",
    "\n",
    "    14. Supprimez les 3 dernières entreprises de la liste.\n",
    "\n",
    "    15. Supprimez la ou les entreprises informatiques du milieu de la liste.\n",
    "\n",
    "    16. Supprimez la première entreprise informatique de la liste\n",
    "\n",
    "    17. Supprimez la ou les entreprises informatiques du milieu de la liste.\n",
    "\n",
    "    18. Retirer la dernière entreprise informatique de la liste\n",
    "\n",
    "    19. Supprimez toutes les entreprises informatiques de la liste\n",
    "\n",
    "    20. Détruire la liste des entreprises informatiques"
   ]
  },
  {
   "cell_type": "code",
   "execution_count": 6,
   "metadata": {
    "id": "4M_XODba8p4V"
   },
   "outputs": [
    {
     "name": "stdout",
     "output_type": "stream",
     "text": [
      "['Facebook', 'Google', 'Microsoft', 'Apple', 'IBM', 'Oracle', 'Amazon']\n"
     ]
    }
   ],
   "source": [
    "it_companies=['Facebook','Google','Microsoft','Apple','IBM','Oracle','Amazon']\n",
    "print(it_companies)"
   ]
  },
  {
   "cell_type": "code",
   "execution_count": 2,
   "metadata": {},
   "outputs": [
    {
     "data": {
      "text/plain": [
       "7"
      ]
     },
     "execution_count": 2,
     "metadata": {},
     "output_type": "execute_result"
    }
   ],
   "source": [
    "len(it_companies)"
   ]
  },
  {
   "cell_type": "code",
   "execution_count": 7,
   "metadata": {},
   "outputs": [
    {
     "name": "stdout",
     "output_type": "stream",
     "text": [
      "Facebook\n",
      "Apple\n",
      "Amazon\n"
     ]
    }
   ],
   "source": [
    "pr=it_companies[0]\n",
    "mo=it_companies[int(len(it_companies)//2)]\n",
    "dr=it_companies[-1]\n",
    "print(pr)\n",
    "print(mo)\n",
    "print(dr)"
   ]
  },
  {
   "cell_type": "code",
   "execution_count": 25,
   "metadata": {},
   "outputs": [
    {
     "name": "stdout",
     "output_type": "stream",
     "text": [
      "['Accenture', 'Google', 'Microsoft', 'Apple', 'IBM', 'Oracle', 'Amazon']\n"
     ]
    }
   ],
   "source": [
    "it_companies[0]='Accenture'\n",
    "print(it_companies)"
   ]
  },
  {
   "cell_type": "code",
   "execution_count": 26,
   "metadata": {},
   "outputs": [
    {
     "name": "stdout",
     "output_type": "stream",
     "text": [
      "['Facebook', 'Google', 'Microsoft', 'Apple', 'IBM', 'Oracle', 'Amazon', 'HPE']\n"
     ]
    }
   ],
   "source": [
    "it_companies=['Facebook','Google','Microsoft','Apple','IBM','Oracle','Amazon']\n",
    "it_companies.append('HPE')\n",
    "print(it_companies)"
   ]
  },
  {
   "cell_type": "code",
   "execution_count": 33,
   "metadata": {},
   "outputs": [
    {
     "name": "stdout",
     "output_type": "stream",
     "text": [
      "['Facebook', 'Google', 'Microsoft', 'Atos', 'Apple', 'IBM', 'Oracle', 'Amazon']\n"
     ]
    }
   ],
   "source": [
    "it_companies=['Facebook','Google','Microsoft','Apple','IBM','Oracle','Amazon']\n",
    "it_companies.insert(int(len(it_companies)//2), 'Atos')\n",
    "print(it_companies)"
   ]
  },
  {
   "cell_type": "code",
   "execution_count": 2,
   "metadata": {},
   "outputs": [
    {
     "name": "stdout",
     "output_type": "stream",
     "text": [
      "['FACEBOOK', 'GOOGLE', 'MICROSOFT', 'APPLE', 'IBM', 'ORACLE', 'AMAZON']\n"
     ]
    }
   ],
   "source": [
    "it_companies=['facebook','google','microsoft','apple','IBM','oracle','amazon']\n",
    "i=0\n",
    "for i in range (0,len(it_companies)):\n",
    "    it_companies[i]=it_companies[i].upper()\n",
    "i=i+1\n",
    "print(it_companies)"
   ]
  },
  {
   "cell_type": "code",
   "execution_count": 4,
   "metadata": {},
   "outputs": [
    {
     "name": "stdout",
     "output_type": "stream",
     "text": [
      "facebook #; google #; microsoft #; apple #; IBM #; oracle #; amazon\n"
     ]
    }
   ],
   "source": [
    "it_companies=['facebook','google','microsoft','apple','IBM','oracle','amazon']\n",
    "joindre=\" #; \".join(it_companies)\n",
    "print(joindre)"
   ]
  },
  {
   "cell_type": "code",
   "execution_count": 2,
   "metadata": {},
   "outputs": [
    {
     "name": "stdout",
     "output_type": "stream",
     "text": [
      "Vrai\n",
      "Vrai\n",
      "Vrai\n",
      "Vrai\n",
      "Vrai\n",
      "Vrai\n",
      "Vrai\n"
     ]
    }
   ],
   "source": [
    "it_companies=['facebook','google','microsoft','apple','IBM','oracle','amazon']\n",
    "for i in range (0,len(it_companies)):\n",
    "    if it_companies[i]==it_companies[i]:\n",
    "        print('Vrai')\n",
    "    else:\n",
    "        print('Faux')\n",
    "i=i+1\n"
   ]
  },
  {
   "cell_type": "code",
   "execution_count": 8,
   "metadata": {},
   "outputs": [
    {
     "name": "stdout",
     "output_type": "stream",
     "text": [
      "['IBM', 'amazon', 'apple', 'facebook', 'google', 'microsoft', 'oracle']\n"
     ]
    }
   ],
   "source": [
    "it_companies=['facebook','google','microsoft','apple','IBM','oracle','amazon']\n",
    "it_companies.sort()\n",
    "print(it_companies)\n"
   ]
  },
  {
   "cell_type": "code",
   "execution_count": 9,
   "metadata": {},
   "outputs": [
    {
     "name": "stdout",
     "output_type": "stream",
     "text": [
      "['amazon', 'oracle', 'IBM', 'apple', 'microsoft', 'google', 'facebook']\n"
     ]
    }
   ],
   "source": [
    "it_companies=['facebook','google','microsoft','apple','IBM','oracle','amazon']\n",
    "it_companies.reverse()\n",
    "print(it_companies)"
   ]
  },
  {
   "cell_type": "code",
   "execution_count": 11,
   "metadata": {},
   "outputs": [
    {
     "name": "stdout",
     "output_type": "stream",
     "text": [
      "['apple', 'IBM', 'oracle', 'amazon']\n"
     ]
    }
   ],
   "source": [
    "it_companies=['facebook','google','microsoft','apple','IBM','oracle','amazon']\n",
    "del it_companies[0:3]\n",
    "print(it_companies)"
   ]
  },
  {
   "cell_type": "code",
   "execution_count": 14,
   "metadata": {},
   "outputs": [
    {
     "name": "stdout",
     "output_type": "stream",
     "text": [
      "['facebook', 'google', 'microsoft', 'apple']\n"
     ]
    }
   ],
   "source": [
    "it_companies=['facebook','google','microsoft','apple','IBM','oracle','amazon']\n",
    "del it_companies[4:]\n",
    "print(it_companies)"
   ]
  },
  {
   "cell_type": "code",
   "execution_count": 19,
   "metadata": {},
   "outputs": [
    {
     "name": "stdout",
     "output_type": "stream",
     "text": [
      "['facebook', 'google', 'microsoft', 'IBM', 'oracle', 'amazon']\n"
     ]
    }
   ],
   "source": [
    "it_companies=['facebook','google','microsoft','apple','IBM','oracle','amazon']\n",
    "it_companies.pop(int(len(it_companies)//2))\n",
    "print(it_companies)"
   ]
  },
  {
   "cell_type": "code",
   "execution_count": 20,
   "metadata": {},
   "outputs": [
    {
     "name": "stdout",
     "output_type": "stream",
     "text": [
      "['google', 'microsoft', 'apple', 'IBM', 'oracle', 'amazon']\n"
     ]
    }
   ],
   "source": [
    "it_companies=['facebook','google','microsoft','apple','IBM','oracle','amazon']\n",
    "it_companies.pop(0)\n",
    "print(it_companies)"
   ]
  },
  {
   "cell_type": "code",
   "execution_count": 21,
   "metadata": {},
   "outputs": [
    {
     "name": "stdout",
     "output_type": "stream",
     "text": [
      "['facebook', 'google', 'microsoft', 'apple', 'IBM', 'oracle']\n"
     ]
    }
   ],
   "source": [
    "it_companies=['facebook','google','microsoft','apple','IBM','oracle','amazon']\n",
    "it_companies.pop(-1)\n",
    "print(it_companies)"
   ]
  },
  {
   "cell_type": "code",
   "execution_count": 33,
   "metadata": {},
   "outputs": [
    {
     "name": "stdout",
     "output_type": "stream",
     "text": [
      "[]\n"
     ]
    }
   ],
   "source": [
    "it_companies=['facebook','google','microsoft','apple','IBM','oracle','amazon']\n",
    "del it_companies[0:len(it_companies)]\n",
    "print(it_companies)\n"
   ]
  },
  {
   "cell_type": "code",
   "execution_count": 34,
   "metadata": {},
   "outputs": [
    {
     "name": "stdout",
     "output_type": "stream",
     "text": [
      "[]\n"
     ]
    }
   ],
   "source": [
    "it_companies=['facebook','google','microsoft','apple','IBM','oracle','amazon']\n",
    "it_companies.clear()\n",
    "print(it_companies)\n"
   ]
  },
  {
   "cell_type": "markdown",
   "metadata": {
    "id": "AfauolZA8p4V"
   },
   "source": [
    "#### **Exercice 06:** \n",
    "**Joindre les listes suivantes :**\n",
    "     \n",
    "         front_end = ['HTML', 'CSS', 'JS', 'React', 'Redux']  \n",
    "         back_end = ['Node','Express', 'MongoDB']"
   ]
  },
  {
   "cell_type": "code",
   "execution_count": 35,
   "metadata": {
    "id": "6V8OXDSW8p4W"
   },
   "outputs": [
    {
     "name": "stdout",
     "output_type": "stream",
     "text": [
      "['HTML', 'CSS', 'JS', 'React', 'Redux', 'Node', 'Express', 'MongoDB']\n"
     ]
    }
   ],
   "source": [
    "front_end = ['HTML', 'CSS', 'JS', 'React', 'Redux']  \n",
    "back_end = ['Node','Express', 'MongoDB']\n",
    "joindre= front_end+back_end\n",
    "print(joindre)"
   ]
  },
  {
   "cell_type": "markdown",
   "metadata": {
    "id": "kASFM1bh8p4X"
   },
   "source": [
    "#### **Exercice 07:** \n",
    "Voici une liste de 10 âges d'étudiants :\n",
    "\n",
    "         ages = [19, 22, 19, 24, 20, 25, 26, 24, 25, 24]\n",
    "         \n",
    " \n",
    "    1. Trier la liste et trouver l'âge minimum et maximum.\n",
    "    2. Ajoutez à nouveau l'âge minimum et l'âge maximum à la liste.\n",
    "    3. Trouvez l'âge médian (un élément du milieu ou deux éléments du milieu divisés par deux).\n",
    "    4. Trouvez l'âge moyen (somme de tous les éléments divisée par leur nombre).\n",
    "    4. Trouver l'intervalle des âges (max moins min)\n",
    "    5. Comparez les valeurs de (min - moyenne) et (max - moyenne) en utilisant la méthode abs().\n",
    "        "
   ]
  },
  {
   "cell_type": "code",
   "execution_count": 18,
   "metadata": {
    "id": "TWTGGaOO8p4Z"
   },
   "outputs": [
    {
     "name": "stdout",
     "output_type": "stream",
     "text": [
      "[19, 19, 20, 22, 24, 24, 24, 25, 25, 26]\n",
      "228\n",
      "l'age minimum est:  19\n",
      "l'age maximum est:  26\n",
      "l'age median est:  24\n",
      "l'age moyen est:  22.8\n",
      "l'intervalle des ages  est:  7\n",
      "3.8000000000000007\n",
      "3.1999999999999993\n"
     ]
    }
   ],
   "source": [
    "ages = [19, 22, 19, 24, 20, 25, 26, 24, 25, 24]\n",
    "ages.sort()\n",
    "print(ages)\n",
    "mi=min(ages)\n",
    "ma=max(ages)\n",
    "med=((ages[len(ages)//2]+(ages[(len(ages)//2)+1]))//2)\n",
    "moy=sum(ages)/len(ages)\n",
    "interv=(ma - mi)\n",
    "#val=abs(mi - moy)\n",
    "#val1=abs(ma - moy)\n",
    "print(sum(ages))\n",
    "print(\"l'age minimum est: \", mi)\n",
    "print(\"l'age maximum est: \", ma)\n",
    "print(\"l'age median est: \", med)\n",
    "print(\"l'age moyen est: \", moy)\n",
    "print(\"l'intervalle des ages  est: \", interv)\n",
    "#print(val)\n",
    "#print(val1)"
   ]
  },
  {
   "cell_type": "code",
   "execution_count": 28,
   "metadata": {
    "id": "TEtbXitA8p4h"
   },
   "outputs": [
    {
     "name": "stdout",
     "output_type": "stream",
     "text": [
      "3.8000000000000007\n",
      "3.1999999999999993\n",
      "La valeur 3.8000000000000007  est la plus grande\n"
     ]
    }
   ],
   "source": [
    "val=abs(mi - moy)\n",
    "val1=abs(ma - moy)\n",
    "print(val)\n",
    "print(val1)\n",
    "if val>val1:\n",
    "    print(\"La valeur\",val,\" est la plus grande\")\n",
    "elif val<val1:\n",
    "    print(\"Non c'est plutot\",val1,\"qui est la plus grande\")\n",
    "elif val==val1:\n",
    "    print(\"Ils sont plutot egales\")\n"
   ]
  },
  {
   "cell_type": "markdown",
   "metadata": {
    "id": "bF7FI4iT8p4i"
   },
   "source": [
    "###  <center> <b> <span style=\"color:blue;\"> Dictionnaires </span> </b></center>"
   ]
  },
  {
   "cell_type": "markdown",
   "metadata": {
    "id": "VzcSJMf18p4j"
   },
   "source": [
    "\n",
    "1. Créer un dictionnaire vide appelé `dog`\n",
    "2. Ajoute le nom, la couleur, la race, les pattes, l'âge au dictionnaire dog.\n",
    "3. Créez un dictionnaire student et ajoutez le prénom, le nom, le sexe, l'âge, l'état civil, les compétences, le pays, la ville et l'adresse comme clés pour le dictionnaire.\n",
    "4. Obtenez la longueur du dictionnaire student\n",
    "5. Récupérez la valeur des compétences et vérifiez le type de données, il doit s'agir d'une liste.\n",
    "6. Modifiez les valeurs des compétences en ajoutant une ou deux compétences.\n",
    "7. Obtenez les clés du dictionnaire sous forme de liste\n",
    "8. Obtenir les valeurs du dictionnaire sous forme de liste\n",
    "9. Transformer le dictionnaire en une liste de tuples en utilisant la méthode items()\n",
    "10. Supprimer un des éléments du dictionnaire\n",
    "11. Supprimer un des dictionnaires\n"
   ]
  },
  {
   "cell_type": "code",
   "execution_count": 5,
   "metadata": {
    "id": "LJ6DfBUh8p4k"
   },
   "outputs": [
    {
     "data": {
      "text/plain": [
       "{'age': 28,\n",
       " 'couleur': 'blanche',\n",
       " 'nom': 'Fall',\n",
       " 'pattes': 'aucun',\n",
       " 'race': 'bambara et Toucouleur'}"
      ]
     },
     "execution_count": 5,
     "metadata": {},
     "output_type": "execute_result"
    }
   ],
   "source": [
    "dog={}\n",
    "dog['nom']='Fall'\n",
    "dog['couleur']='blanche'\n",
    "dog['race']='bambara et Toucouleur'\n",
    "dog['pattes']='aucun'\n",
    "dog['age']=28\n",
    "dog\n",
    "\n",
    "\n"
   ]
  },
  {
   "cell_type": "code",
   "execution_count": 27,
   "metadata": {
    "id": "rNdDqviE8p4l"
   },
   "outputs": [
    {
     "data": {
      "text/plain": [
       "{'adresse': 'chez mon papa',\n",
       " 'age': 28,\n",
       " 'etat civil': 'celibataire',\n",
       " 'les competences': ['math', 'moyen informatique'],\n",
       " 'nom': 'Fall',\n",
       " 'pays': 'senegal',\n",
       " 'prenom': ' Kancou Dableny',\n",
       " 'sexe': 'feminin',\n",
       " 'ville': 'Fatick'}"
      ]
     },
     "execution_count": 27,
     "metadata": {},
     "output_type": "execute_result"
    }
   ],
   "source": [
    "student= {'prenom':' Kancou Dableny','nom':'Fall','sexe':'feminin','age':28,'etat civil':'celibataire','les competences':['math','moyen informatique'],'pays':'senegal','ville':'Fatick','adresse':'chez mon papa' }\n",
    "student\n",
    "\n"
   ]
  },
  {
   "cell_type": "code",
   "execution_count": 28,
   "metadata": {},
   "outputs": [
    {
     "data": {
      "text/plain": [
       "9"
      ]
     },
     "execution_count": 28,
     "metadata": {},
     "output_type": "execute_result"
    }
   ],
   "source": [
    "len(student)"
   ]
  },
  {
   "cell_type": "code",
   "execution_count": 29,
   "metadata": {},
   "outputs": [
    {
     "name": "stdout",
     "output_type": "stream",
     "text": [
      "['math', 'moyen informatique']\n"
     ]
    }
   ],
   "source": [
    "print(student.get(\"les competences\"))\n"
   ]
  },
  {
   "cell_type": "code",
   "execution_count": 37,
   "metadata": {
    "scrolled": true
   },
   "outputs": [
    {
     "name": "stdout",
     "output_type": "stream",
     "text": [
      "{'prenom': ' Kancou Dableny', 'nom': 'Fall', 'sexe': 'feminin', 'age': 28, 'etat civil': 'celibataire', 'les competences': ['math', 'moyen informatique', 'un peu en python'], 'pays': 'senegal', 'ville': 'Fatick', 'adresse': 'chez mon papa'}\n"
     ]
    }
   ],
   "source": [
    "student.update({'les competences':['math','moyen informatique','un peu en python']})\n",
    "print(student)"
   ]
  },
  {
   "cell_type": "code",
   "execution_count": 40,
   "metadata": {},
   "outputs": [
    {
     "name": "stdout",
     "output_type": "stream",
     "text": [
      "dict_keys(['prenom', 'nom', 'sexe', 'age', 'etat civil', 'les competences', 'pays', 'ville', 'adresse'])\n"
     ]
    }
   ],
   "source": [
    "cle_student = student.keys()\n",
    "print(cle_student )"
   ]
  },
  {
   "cell_type": "code",
   "execution_count": 42,
   "metadata": {},
   "outputs": [
    {
     "name": "stdout",
     "output_type": "stream",
     "text": [
      "dict_values([' Kancou Dableny', 'Fall', 'feminin', 28, 'celibataire', ['math', 'moyen informatique', 'un peu en python'], 'senegal', 'Fatick', 'chez mon papa'])\n"
     ]
    }
   ],
   "source": [
    "valeur_student = student.values()\n",
    "print(valeur_student )"
   ]
  },
  {
   "cell_type": "code",
   "execution_count": 43,
   "metadata": {},
   "outputs": [
    {
     "name": "stdout",
     "output_type": "stream",
     "text": [
      "dict_items([('prenom', ' Kancou Dableny'), ('nom', 'Fall'), ('sexe', 'feminin'), ('age', 28), ('etat civil', 'celibataire'), ('les competences', ['math', 'moyen informatique', 'un peu en python']), ('pays', 'senegal'), ('ville', 'Fatick'), ('adresse', 'chez mon papa')])\n"
     ]
    }
   ],
   "source": [
    "listetuple_student = student.items()\n",
    "print(listetuple_student )"
   ]
  },
  {
   "cell_type": "code",
   "execution_count": 44,
   "metadata": {},
   "outputs": [
    {
     "name": "stdout",
     "output_type": "stream",
     "text": [
      "{'prenom': ' Kancou Dableny', 'nom': 'Fall', 'sexe': 'feminin', 'age': 28, 'les competences': ['math', 'moyen informatique', 'un peu en python'], 'pays': 'senegal', 'ville': 'Fatick', 'adresse': 'chez mon papa'}\n"
     ]
    }
   ],
   "source": [
    "del student['etat civil']\n",
    "print(student)"
   ]
  },
  {
   "cell_type": "code",
   "execution_count": 45,
   "metadata": {},
   "outputs": [
    {
     "name": "stdout",
     "output_type": "stream",
     "text": [
      "{}\n"
     ]
    }
   ],
   "source": [
    "dog.clear()\n",
    "print(dog)"
   ]
  },
  {
   "cell_type": "markdown",
   "metadata": {
    "id": "ugc1Itzb8p4l"
   },
   "source": [
    "<center> <b> <span style=\"color:orange;\"> 🎉 FÉLICITATIONS ! / CONGRATULATIONS !🎉 </span> </b></center>"
   ]
  }
 ],
 "metadata": {
  "colab": {
   "name": "Exercices_02_Objets-itérables-ou-conteneurs.ipynb",
   "provenance": []
  },
  "kernelspec": {
   "display_name": "Python 3",
   "language": "python",
   "name": "python3"
  },
  "language_info": {
   "codemirror_mode": {
    "name": "ipython",
    "version": 3
   },
   "file_extension": ".py",
   "mimetype": "text/x-python",
   "name": "python",
   "nbconvert_exporter": "python",
   "pygments_lexer": "ipython3",
   "version": "3.6.9"
  }
 },
 "nbformat": 4,
 "nbformat_minor": 1
}
