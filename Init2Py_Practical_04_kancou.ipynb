{
 "cells": [
  {
   "cell_type": "markdown",
   "metadata": {
    "id": "LPINvDFo9Nce"
   },
   "source": [
    "\n",
    "\n",
    "    \n",
    "#    <center> <b> <span style=\"color:orange;\" >  `Python for Scientific Computing and Software Engineering ` </span> </b></center>\n",
    "\n",
    "\n",
    "## <center> <b> <span style=\"color:orange;\"> An Initiation to Programming using Python (Init2Py) </span> </b></center>\n",
    "\n",
    "### <center> <b> <span style=\"color:blue;\"> Travaux Pratiques: Loops</span> </b></center>\n",
    "\n",
    "\n",
    "\n",
    "\n",
    "\n",
    "\n",
    "\n"
   ]
  },
  {
   "cell_type": "markdown",
   "metadata": {
    "id": "0vAKMUYl9Nc1"
   },
   "source": [
    "#### Exercice 0\n",
    ">On se propose de résoudre dans l'ensemble des entiers naturels l'inéquation $2n(n+1)<100$.\n",
    "En utilisant une boucle **While**, écris un programme qui renvoie les solutions entières de cette inéquation."
   ]
  },
  {
   "cell_type": "code",
   "execution_count": 8,
   "metadata": {
    "id": "tnXJLyHA9Nc4"
   },
   "outputs": [
    {
     "name": "stdout",
     "output_type": "stream",
     "text": [
      "0\n",
      "1\n",
      "2\n",
      "3\n",
      "4\n",
      "5\n",
      "6\n"
     ]
    }
   ],
   "source": [
    "def Inequation():\n",
    "    n = 0\n",
    "    while (2*n*(n+1)) < 100 :\n",
    "        print(n)\n",
    "        n = n +1\n",
    "\n",
    "Inequation()"
   ]
  },
  {
   "cell_type": "markdown",
   "metadata": {
    "id": "USaieP9c9Nc5"
   },
   "source": [
    "#### Exercice 1\n",
    "> En utilisant une boucle **For**, écris un programme qui calcule la somme des 30 premiers entiers naturels non nuls."
   ]
  },
  {
   "cell_type": "code",
   "execution_count": 20,
   "metadata": {
    "id": "-a76WFyH9Nc7"
   },
   "outputs": [
    {
     "name": "stdout",
     "output_type": "stream",
     "text": [
      "465\n"
     ]
    }
   ],
   "source": [
    "def Somme():\n",
    "    som=0\n",
    "    i = 1\n",
    "    for i in  range(1,31):\n",
    "        som=som+i\n",
    "        i = i +1\n",
    "    print(som)\n",
    "\n",
    "Somme()"
   ]
  },
  {
   "cell_type": "markdown",
   "metadata": {
    "id": "_070Czs09Nc8"
   },
   "source": [
    "#### Exercice 2\n",
    ">Refais l'exercice 1 en utilisant une boucle **While**."
   ]
  },
  {
   "cell_type": "code",
   "execution_count": 16,
   "metadata": {
    "id": "m7dg2bhR9Nc9"
   },
   "outputs": [
    {
     "name": "stdout",
     "output_type": "stream",
     "text": [
      "465\n"
     ]
    }
   ],
   "source": [
    "def Somme1():\n",
    "    som=0\n",
    "    n = 1\n",
    "    while i<=30:\n",
    "        som=som+i\n",
    "        n = n +1\n",
    "    print(som)\n",
    "\n",
    "Somme()"
   ]
  },
  {
   "cell_type": "markdown",
   "metadata": {
    "id": "Hg1vBggc9Nc_"
   },
   "source": [
    "#### Exercice 3\n",
    ">En utilisant une boucle **For**, écris un programme qui calcule le produit des 9 premiers entiers naturels non nuls."
   ]
  },
  {
   "cell_type": "code",
   "execution_count": 19,
   "metadata": {
    "id": "h0TkyvqS9NdB"
   },
   "outputs": [
    {
     "name": "stdout",
     "output_type": "stream",
     "text": [
      "362880\n"
     ]
    }
   ],
   "source": [
    "def Produit():\n",
    "    pro=1\n",
    "    i = 1\n",
    "    for i in  range(1,10):\n",
    "        pro=pro*i\n",
    "        i = i +1\n",
    "    print(pro)\n",
    "\n",
    "Produit()"
   ]
  },
  {
   "cell_type": "markdown",
   "metadata": {
    "id": "a2iZm5y_9NdD"
   },
   "source": [
    "#### Exercice 4\n",
    "> Refais l'exercice 3 en utilisant une boucle **While**."
   ]
  },
  {
   "cell_type": "code",
   "execution_count": 44,
   "metadata": {},
   "outputs": [
    {
     "name": "stdout",
     "output_type": "stream",
     "text": [
      "362880\n"
     ]
    }
   ],
   "source": [
    "def Produit1():\n",
    "    pro=1\n",
    "    i = 1\n",
    "    while i<=9:\n",
    "        pro=pro*i\n",
    "        i = i +1\n",
    "    print(pro)\n",
    "\n",
    "Produit1()"
   ]
  },
  {
   "cell_type": "markdown",
   "metadata": {
    "id": "rb3k7Bve9NdE"
   },
   "source": [
    "#### Exercice 5 \n",
    ">Écris un programme qui demande à l'utilisateur de saisir un nombre n et qui affiche tous les nombres pairs de $1$ à $n$ en utilisant la boucle **For**."
   ]
  },
  {
   "cell_type": "code",
   "execution_count": 43,
   "metadata": {
    "id": "ibXs9RCB9NdF"
   },
   "outputs": [
    {
     "name": "stdout",
     "output_type": "stream",
     "text": [
      "Veuillez saisir un nombre entier naturel svp:  30\n",
      "2\n",
      "4\n",
      "6\n",
      "8\n",
      "10\n",
      "12\n",
      "14\n",
      "16\n",
      "18\n",
      "20\n",
      "22\n",
      "24\n",
      "26\n",
      "28\n",
      "30\n",
      "[2, 4, 6, 8, 10, 12, 14, 16, 18, 20, 22, 24, 26, 28, 30]\n"
     ]
    }
   ],
   "source": [
    "def NombresPairs():\n",
    "    n=input(\"Veuillez saisir un nombre entier naturel svp:  \")\n",
    "    L=[]\n",
    "    i = 1\n",
    "    for i in  range(1,int(n)+1):\n",
    "        if i%2==0:\n",
    "            print(i)\n",
    "            L.append(i)\n",
    "        i = i +1\n",
    "    print(L)\n",
    "\n",
    "NombresPairs()"
   ]
  },
  {
   "cell_type": "markdown",
   "metadata": {
    "id": "HPC3bfyE9NdG"
   },
   "source": [
    "#### Exercice 6\n",
    ">Refais l'exercice 5 en utilisant la boucle **While**."
   ]
  },
  {
   "cell_type": "code",
   "execution_count": 49,
   "metadata": {
    "id": "dRuTyo3m9NdH"
   },
   "outputs": [
    {
     "name": "stdout",
     "output_type": "stream",
     "text": [
      "Veuillez saisir un nombre entier naturel svp:  30\n",
      "2\n",
      "4\n",
      "6\n",
      "8\n",
      "10\n",
      "12\n",
      "14\n",
      "16\n",
      "18\n",
      "20\n",
      "22\n",
      "24\n",
      "26\n",
      "28\n",
      "30\n",
      "[2, 4, 6, 8, 10, 12, 14, 16, 18, 20, 22, 24, 26, 28, 30]\n"
     ]
    }
   ],
   "source": [
    "def NombresPairs1():\n",
    "    n=input(\"Veuillez saisir un nombre entier naturel svp:  \")\n",
    "    L=[]\n",
    "    i = 1\n",
    "    while i<= int(n):\n",
    "        if i%2==0:\n",
    "            print(i)\n",
    "            L.append(i)\n",
    "        i = i +1\n",
    "    print(L)\n",
    "\n",
    "NombresPairs1()"
   ]
  },
  {
   "cell_type": "markdown",
   "metadata": {
    "id": "6fNPIIdQ9NdH"
   },
   "source": [
    "#### Exercice 7\n",
    ">Écris un programme qui demande à l'utilisateur de saisir un nombre n et qui affiche tous les nombres impairs de 1 à n en utilisant la boucle **For**."
   ]
  },
  {
   "cell_type": "code",
   "execution_count": 47,
   "metadata": {
    "id": "LuVEv9Lc9NdI"
   },
   "outputs": [
    {
     "name": "stdout",
     "output_type": "stream",
     "text": [
      "Veuillez saisir un nombre entier naturel svp:  6\n",
      "1\n",
      "3\n",
      "5\n",
      "[1, 3, 5]\n"
     ]
    }
   ],
   "source": [
    "def NombresImpairs():\n",
    "    n=input(\"Veuillez saisir un nombre entier naturel svp:  \")\n",
    "    L=[]\n",
    "    i = 1\n",
    "    for i in  range(1,int(n)+1):\n",
    "        if i%2==1:\n",
    "            print(i)\n",
    "            L.append(i)\n",
    "        i = i +1\n",
    "    print(L)\n",
    "\n",
    "NombresImpairs()"
   ]
  },
  {
   "cell_type": "markdown",
   "metadata": {
    "id": "HIlapsJ89NdK"
   },
   "source": [
    "#### Exercice 8\n",
    ">Refais l'exercice 7 en utilisant la boucle **While**.\n",
    "\n"
   ]
  },
  {
   "cell_type": "code",
   "execution_count": 51,
   "metadata": {
    "id": "Igvjeb2E9NdM"
   },
   "outputs": [
    {
     "name": "stdout",
     "output_type": "stream",
     "text": [
      "Veuillez saisir un nombre entier naturel svp:  7\n",
      "1\n",
      "3\n",
      "5\n",
      "7\n",
      "[1, 3, 5, 7]\n"
     ]
    }
   ],
   "source": [
    "def NombresImpairs():\n",
    "    n=input(\"Veuillez saisir un nombre entier naturel svp:  \")\n",
    "    L=[]\n",
    "    i = 1\n",
    "    while i<= int(n):\n",
    "        if i%2==1:\n",
    "            print(i)\n",
    "            L.append(i)\n",
    "        i = i +1\n",
    "    print(L)\n",
    "\n",
    "NombresImpairs()"
   ]
  },
  {
   "cell_type": "markdown",
   "metadata": {
    "id": "KOYLg_e79NdU"
   },
   "source": [
    "#### Exercice 9\n",
    ">Écris un programme qui demande à l'utilisateur de saisir un nombre n et qui affiche sa table de multiplication  en utilisant la boucle **For**."
   ]
  },
  {
   "cell_type": "code",
   "execution_count": 61,
   "metadata": {
    "id": "BvOU9oLw9NdU"
   },
   "outputs": [
    {
     "name": "stdout",
     "output_type": "stream",
     "text": [
      "Veuillez saisir un nombre entier naturel svp:  5\n",
      "1  x 5  = 5\n",
      "2  x 5  = 10\n",
      "3  x 5  = 15\n",
      "4  x 5  = 20\n",
      "5  x 5  = 25\n",
      "6  x 5  = 30\n",
      "7  x 5  = 35\n",
      "8  x 5  = 40\n",
      "9  x 5  = 45\n",
      "10  x 5  = 50\n",
      "11  x 5  = 55\n",
      "12  x 5  = 60\n"
     ]
    }
   ],
   "source": [
    "def Multiplication():\n",
    "    n=input(\"Veuillez saisir un nombre entier naturel svp:  \")\n",
    "    i = 1\n",
    "    for i in  range(1,13):\n",
    "        m=i*int(n)\n",
    "        print(i,' ' + 'x', int(n),' ' + '=',  m)\n",
    "    i = i +1\n",
    "    \n",
    "\n",
    "Multiplication()"
   ]
  },
  {
   "cell_type": "markdown",
   "metadata": {
    "id": "Ukzy78L09NdV"
   },
   "source": [
    "#### Exercice 10\n",
    ">Refais l'exercice 9 en utilisant la boucle **While**."
   ]
  },
  {
   "cell_type": "code",
   "execution_count": 6,
   "metadata": {
    "id": "fRJ3oufC9NdV"
   },
   "outputs": [
    {
     "name": "stdout",
     "output_type": "stream",
     "text": [
      "Veuillez saisir un nombre entier naturel svp:  5\n",
      "1  x 5  = 5\n",
      "2  x 5  = 10\n",
      "3  x 5  = 15\n",
      "4  x 5  = 20\n",
      "5  x 5  = 25\n",
      "6  x 5  = 30\n",
      "7  x 5  = 35\n",
      "8  x 5  = 40\n",
      "9  x 5  = 45\n",
      "10  x 5  = 50\n",
      "11  x 5  = 55\n",
      "12  x 5  = 60\n"
     ]
    }
   ],
   "source": [
    "def Multiplication1():\n",
    "    n=input(\"Veuillez saisir un nombre entier naturel svp:  \")\n",
    "    i = 1\n",
    "    while i<=12:\n",
    "        m=i*int(n)\n",
    "        print(i,' ' + 'x', int(n),' ' + '=',  m)\n",
    "        i = i +1\n",
    "\n",
    "Multiplication1()"
   ]
  },
  {
   "cell_type": "markdown",
   "metadata": {
    "id": "AQW435Hq9NdW"
   },
   "source": [
    "#### Exercice 11\n",
    ">Écris un programme qui demande à l'utilisateur d'entrer un nombre et de trouver tous ses diviseurs  en utilisant la boucle **For**."
   ]
  },
  {
   "cell_type": "code",
   "execution_count": 16,
   "metadata": {
    "id": "Zjs_NfT89NdX"
   },
   "outputs": [
    {
     "name": "stdout",
     "output_type": "stream",
     "text": [
      "Veuillez saisir un nombre entier naturel svp:  12\n",
      "1\n",
      "2\n",
      "3\n",
      "4\n",
      "6\n",
      "12\n",
      "[1, 2, 3, 4, 6, 12]\n"
     ]
    }
   ],
   "source": [
    "def NombresDiviseurs():\n",
    "    n=input(\"Veuillez saisir un nombre entier naturel svp:  \")\n",
    "    L=[]\n",
    "    i = 1\n",
    "    for i in  range(1,int(n)+1):\n",
    "        if int(n)%int(i)==0:\n",
    "            print(i)\n",
    "            L.append(i)\n",
    "        i = i +1\n",
    "    print(L)\n",
    "\n",
    "NombresDiviseurs()"
   ]
  },
  {
   "cell_type": "markdown",
   "metadata": {
    "id": "pGp6labk9NdX"
   },
   "source": [
    "#### Exercice 12\n",
    ">Écris un programme qui demande à l'utilisateur d'entrer un entier naturel n et de trouver tous sa factorielle n!  en utilisant la boucle **For**. On rappelle que $n!=n*(n-1)*(n-2)...3*2*1$."
   ]
  },
  {
   "cell_type": "code",
   "execution_count": 11,
   "metadata": {
    "id": "iDw3TKDU9NdX"
   },
   "outputs": [
    {
     "name": "stdout",
     "output_type": "stream",
     "text": [
      "Veuillez saisir un nombre entier naturel svp:  15\n",
      "2\n",
      "6\n",
      "24\n",
      "120\n",
      "720\n",
      "5040\n",
      "40320\n",
      "362880\n",
      "3628800\n",
      "39916800\n",
      "479001600\n",
      "6227020800\n",
      "87178291200\n",
      "1307674368000\n",
      "[2, 6, 24, 120, 720, 5040, 40320, 362880, 3628800, 39916800, 479001600, 6227020800, 87178291200, 1307674368000]\n"
     ]
    }
   ],
   "source": [
    "def Factoriel():\n",
    "    n=input(\"Veuillez saisir un nombre entier naturel svp:  \")\n",
    "    L=[]\n",
    "    fcto = 1\n",
    "    for i in range(2,int(n)+1):\n",
    "        if i==0:\n",
    "            return 1\n",
    "        else:\n",
    "            fcto=fcto*i\n",
    "            print(fcto)\n",
    "            L.append(fcto)\n",
    "        i = i +1\n",
    "    print(L)\n",
    "\n",
    "Factoriel()\n"
   ]
  },
  {
   "cell_type": "markdown",
   "metadata": {
    "id": "eyKh1oTo9NdY"
   },
   "source": [
    "#### Exercice 13\n",
    ">Écris un programme qui demande à l'utilisateur d'entrer deux entiers naturels (plus petits que 15) et de trouver leur plus petit commun multiple utilisant la boucle **For**."
   ]
  },
  {
   "cell_type": "code",
   "execution_count": null,
   "metadata": {
    "id": "ombGnLVQ9NdY"
   },
   "outputs": [],
   "source": []
  },
  {
   "cell_type": "markdown",
   "metadata": {
    "id": "j4zO7-ak9NdZ"
   },
   "source": [
    "#### Exercice 14\n",
    ">Écris un programme pour afficher la série de Fibonacci jusqu'à n termes en utilisant une boucle."
   ]
  },
  {
   "cell_type": "code",
   "execution_count": 3,
   "metadata": {
    "id": "5UknLOdY9NdZ"
   },
   "outputs": [
    {
     "name": "stdout",
     "output_type": "stream",
     "text": [
      "\n",
      " la suite fibonacci est : 1\n",
      "\n",
      " la suite fibonacci est : 2\n",
      "\n",
      " la suite fibonacci est : 3\n",
      "\n",
      " la suite fibonacci est : 5\n",
      "\n",
      " la suite fibonacci est : 8\n",
      "\n",
      " la suite fibonacci est : 13\n",
      "\n",
      " la suite fibonacci est : 21\n",
      "\n",
      " la suite fibonacci est : 34\n",
      "\n",
      " la suite fibonacci est : 55\n"
     ]
    }
   ],
   "source": [
    "def Fibonacci(n):\n",
    "    a=0\n",
    "    b=1\n",
    "    i=2\n",
    "    for i in range(2 , int(n)+1):\n",
    "        fibo = int(a) + int(b)\n",
    "        a=b\n",
    "        b=fibo\n",
    "        print(\"\\n la suite fibonacci est :\" , fibo)\n",
    "        #break\n",
    "    \n",
    "    \n",
    "Fibonacci(10)\n",
    " \n",
    "\n",
    " \n"
   ]
  },
  {
   "cell_type": "markdown",
   "metadata": {
    "id": "_RBVFZdl9Nda"
   },
   "source": [
    "#### Exercice 15\n",
    ">Écris, en utilisant une boucle **For**, un programme pour afficher 5 fois de suite le message \"Python est un très bon langage de programmation\"."
   ]
  },
  {
   "cell_type": "code",
   "execution_count": 10,
   "metadata": {
    "id": "IA5dPbgd9Nda"
   },
   "outputs": [
    {
     "name": "stdout",
     "output_type": "stream",
     "text": [
      "Python est un tres bon langage de programmationPython est un tres bon langage de programmationPython est un tres bon langage de programmationPython est un tres bon langage de programmationPython est un tres bon langage de programmation\n"
     ]
    }
   ],
   "source": [
    "message='Python est un tres bon langage de programmation'\n",
    "i=1\n",
    "for i in range (1,6):\n",
    "    mes=message * i\n",
    "    #print(mes)\n",
    "    i=i+1\n",
    "print(mes)"
   ]
  },
  {
   "cell_type": "markdown",
   "metadata": {
    "id": "VUgurSg59Nda"
   },
   "source": [
    "#### Exercice 16\n",
    ">Écris, en utilisant une boucle **While**, un programme pour afficher 7 fois de suite le message \"A cette allure je finirai par tout abandonner pour la programmation\"."
   ]
  },
  {
   "cell_type": "code",
   "execution_count": 11,
   "metadata": {
    "id": "TgE99bdh9Ndb"
   },
   "outputs": [
    {
     "name": "stdout",
     "output_type": "stream",
     "text": [
      "A cette allure je finirai par tout abandonner pour la programmationA cette allure je finirai par tout abandonner pour la programmationA cette allure je finirai par tout abandonner pour la programmationA cette allure je finirai par tout abandonner pour la programmationA cette allure je finirai par tout abandonner pour la programmationA cette allure je finirai par tout abandonner pour la programmationA cette allure je finirai par tout abandonner pour la programmation\n"
     ]
    }
   ],
   "source": [
    "message=\"A cette allure je finirai par tout abandonner pour la programmation\"\n",
    "i=1\n",
    "while i<=7:\n",
    "    mes=message * i\n",
    "    #print(mes)\n",
    "    i=i+1\n",
    "print(mes)"
   ]
  },
  {
   "cell_type": "markdown",
   "metadata": {
    "id": "DVgTXQRX9Ndb"
   },
   "source": [
    "#### Exercice 17\n",
    ">Écris, en utilisant une boucle **For**, un programme qui compte à l'envers de 10 à 0 puis qui affiche le message \"Partez\".\n"
   ]
  },
  {
   "cell_type": "code",
   "execution_count": 22,
   "metadata": {
    "id": "w4L4KV6C9Ndc"
   },
   "outputs": [
    {
     "name": "stdout",
     "output_type": "stream",
     "text": [
      "Partez\n"
     ]
    }
   ],
   "source": [
    "mess='zetrap'\n",
    "l=[]\n",
    "mess1=list(mess)\n",
    "for i in mess1[::-1]:\n",
    "    l.append(i)\n",
    "messa=\"\".join(l)\n",
    "print(messa.capitalize())"
   ]
  },
  {
   "cell_type": "markdown",
   "metadata": {
    "id": "raJAaAd29Ndc"
   },
   "source": [
    "#### Exercice 18\n",
    ">Écris, en utilisant une boucle **For**, un programme qui affiche chaque élément d'une chaine de caractère."
   ]
  },
  {
   "cell_type": "code",
   "execution_count": 40,
   "metadata": {
    "id": "wZv1gX4c9Ndd"
   },
   "outputs": [
    {
     "name": "stdout",
     "output_type": "stream",
     "text": [
      "['b', 'o', 'n', 'j', 'o', 'u', 'r', ' ', 't', 'o', 'u', 't', ' ', 'l', 'e', ' ', 'm', 'o', 'n', 'd', 'e']\n"
     ]
    }
   ],
   "source": [
    "chaine= 'bonjour tout le monde'\n",
    "l=[]\n",
    "l1=[]\n",
    "b=list(chaine)\n",
    "for i in range (0 , len(chaine)):\n",
    "    for j in range(0 , len(chaine[i])):\n",
    "        l.append(chaine[i])\n",
    "print(l)\n",
    "    "
   ]
  },
  {
   "cell_type": "markdown",
   "metadata": {
    "id": "095_Dtoc9Ndf"
   },
   "source": [
    "#### Exercice 19\n",
    ">Écris, en utilisant une boucle **For**, un programme qui compte à l'envers de 10 à 0 puis qui affiche le message \"Partez\"."
   ]
  },
  {
   "cell_type": "code",
   "execution_count": 23,
   "metadata": {
    "id": "MOV4pZzn9Ndg"
   },
   "outputs": [
    {
     "name": "stdout",
     "output_type": "stream",
     "text": [
      "Partez\n"
     ]
    }
   ],
   "source": [
    "mess='zetrap'\n",
    "l=[]\n",
    "mess1=list(mess)\n",
    "for i in mess1[::-1]:\n",
    "    l.append(i)\n",
    "messa=\"\".join(l)\n",
    "print(messa.capitalize())"
   ]
  },
  {
   "cell_type": "markdown",
   "metadata": {
    "id": "5sUU7dgJ9Ndh"
   },
   "source": [
    "<center> <b> <span style=\"color:orange;\"> 🎉 FÉLICITATIONS ! / CONGRATULATIONS! 🎉 </span> </b></center>"
   ]
  }
 ],
 "metadata": {
  "colab": {
   "name": "Exercices_03_Boucles.ipynb",
   "provenance": []
  },
  "kernelspec": {
   "display_name": "Python 3",
   "language": "python",
   "name": "python3"
  },
  "language_info": {
   "codemirror_mode": {
    "name": "ipython",
    "version": 3
   },
   "file_extension": ".py",
   "mimetype": "text/x-python",
   "name": "python",
   "nbconvert_exporter": "python",
   "pygments_lexer": "ipython3",
   "version": "3.6.9"
  }
 },
 "nbformat": 4,
 "nbformat_minor": 1
}
