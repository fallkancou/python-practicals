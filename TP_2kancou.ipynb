{
 "cells": [
  {
   "cell_type": "markdown",
   "metadata": {
    "id": "RAWKZD-l8aDi"
   },
   "source": [
    "\n",
    "<center>\n",
    "    <a href=\"https://www.aims-senegal.org/\" ><img src=\"aimssn_logo.png\" style=\"float:center; max-width: 600px; display: inline\" alt=\"AIMS-SN\"/> </a>\n",
    "    </center>\n",
    "    \n",
    "#    <center> <b> <span style=\"color:orange;\" >  `Python for Scientific Computing and Software Engineering ` </span> </b></center>\n",
    "\n",
    "\n",
    "## <center> <b> <span style=\"color:orange;\"> An Initiation to Programming using Python (Init2Py) </span> </b></center>\n",
    "\n",
    "### <center> <b> <span style=\"color:blue;\"> Travaux Pratiques: Chaînes de caractères</span> </b></center>\n",
    "\n"
   ]
  },
  {
   "cell_type": "markdown",
   "metadata": {},
   "source": [
    "**EN = English**                     \n",
    "\n",
    "**FR = Français**"
   ]
  },
  {
   "cell_type": "markdown",
   "metadata": {
    "id": "MqQawZ_q8aDl"
   },
   "source": [
    "#### **Exercice 00:**  \n",
    "> **FR: Concaténation des chaînes 'Trente', 'Jours', 'De', 'Python', 'Trente Jours De Python' en une seule chaîne.**\n",
    "\n",
    "> **EN: Concatenation of the strings 'Thirty', 'Days', 'From', 'Python', 'Thirty Days From Python' into one string.**"
   ]
  },
  {
   "cell_type": "code",
   "execution_count": 8,
   "metadata": {
    "id": "_nco70S-8aDo"
   },
   "outputs": [
    {
     "name": "stdout",
     "output_type": "stream",
     "text": [
      "Trente Jours De Python\n"
     ]
    }
   ],
   "source": [
    "x = 'Trente'\n",
    "y = 'Jours'\n",
    "z = 'De'\n",
    "a = 'Python'\n",
    "b = x+' '+y+' '+z+' '+a\n",
    "print(b) "
   ]
  },
  {
   "cell_type": "markdown",
   "metadata": {},
   "source": [
    "Les chaines ci_dessus en une seule chaine"
   ]
  },
  {
   "cell_type": "markdown",
   "metadata": {
    "id": "UdYv8mBJ8aDt"
   },
   "source": [
    "#### **Exercice 01:**  \n",
    "> **FR: Concaténer la chaîne 'Codage', 'Pour', 'Tous' en une seule chaîne, 'Codage Pour Tous'.**\n",
    "\n",
    "> **EN: Concatenate the string 'Coding', 'For', 'All' into one string, 'Coding For All'.**"
   ]
  },
  {
   "cell_type": "code",
   "execution_count": 10,
   "metadata": {},
   "outputs": [
    {
     "name": "stdout",
     "output_type": "stream",
     "text": [
      "Codage Pour Tous\n"
     ]
    }
   ],
   "source": [
    "a='Codage' + ' '+ 'Pour' + ' '+ 'Tous'\n",
    "print(a)"
   ]
  },
  {
   "cell_type": "markdown",
   "metadata": {
    "id": "Q-YHaNPp8aDx"
   },
   "source": [
    "la chaine ci_dessus en une seule chaine"
   ]
  },
  {
   "cell_type": "markdown",
   "metadata": {
    "id": "CBYAS7io8aD0"
   },
   "source": [
    "#### **Exercice 02:**  \n",
    "> FR:\n",
    "> 1. **Déclarer une variable nommée `compagnie` et lui attribuer une valeur initiale `Coding    For All`.**\n",
    "> 2. **Imprimez la variable `compagnie` en utilisant `print()`.**\n",
    "\n",
    "> EN:\n",
    "> 1. **Declare a variable named `company` and give it an initial value `Coding For All`.**\n",
    "> 2. **Print the variable `company` using `print()`.**\n"
   ]
  },
  {
   "cell_type": "code",
   "execution_count": 11,
   "metadata": {
    "id": "crZdf6LS8aD2"
   },
   "outputs": [
    {
     "name": "stdout",
     "output_type": "stream",
     "text": [
      "Coding For All\n"
     ]
    }
   ],
   "source": [
    "compagnie='Coding For All'\n",
    "print(compagnie)"
   ]
  },
  {
   "cell_type": "code",
   "execution_count": null,
   "metadata": {},
   "outputs": [],
   "source": []
  },
  {
   "cell_type": "markdown",
   "metadata": {
    "id": "Sw7GIfGV8aD3"
   },
   "source": [
    "#### **Exercice 03:** \n",
    "> FR:\n",
    ">1. **Imprimez la longueur de la chaîne de la société en utilisant la méthode `len()` et la fonction `print()`.**\n",
    ">2. **Changez tous les caractères en lettres majuscules à l'aide de la méthode `upper()`.**\n",
    ">3. **Changez tous les caractères en minuscules à l'aide de la méthode `lower()`.**\n",
    ">4. **Utilisez les méthodes `capitalize()`, `title()`, `swapcase()` pour formater la valeur de la chaîne `Coding For All\"`.**\n",
    "\n",
    "> EN:\n",
    ">1. **Print the length of the company string using the `len()` method and the `print()` function.**\n",
    ">2. **Change all characters to uppercase using the `upper()` method.**\n",
    ">3. **Change all characters to lowercase using the `lower()` method.**\n",
    ">4. **Use the `capitalize()`, `title()`, `swapcase()` methods to format the value of the `Coding For All\"`string.**\n",
    " "
   ]
  },
  {
   "cell_type": "code",
   "execution_count": 15,
   "metadata": {
    "id": "rFntZB6J8aD6"
   },
   "outputs": [
    {
     "name": "stdout",
     "output_type": "stream",
     "text": [
      "38\n"
     ]
    }
   ],
   "source": [
    "ch='la longueur de la chaine de la societe'\n",
    "print(len(ch)) \n"
   ]
  },
  {
   "cell_type": "code",
   "execution_count": 16,
   "metadata": {},
   "outputs": [
    {
     "name": "stdout",
     "output_type": "stream",
     "text": [
      "LA LONGUEUR DE LA CHAINE DE LA SOCIETE\n"
     ]
    }
   ],
   "source": [
    "ch='la longueur de la chaine de la societe'\n",
    "CH= ch.upper()\n",
    "print(CH)"
   ]
  },
  {
   "cell_type": "code",
   "execution_count": 17,
   "metadata": {},
   "outputs": [
    {
     "name": "stdout",
     "output_type": "stream",
     "text": [
      "la longueur de la chaine de la societe\n"
     ]
    }
   ],
   "source": [
    "CH='LA LONGUEUR DE LA CHAINE DE LA SOCIETE'\n",
    "ch= CH.lower()\n",
    "print(ch)"
   ]
  },
  {
   "cell_type": "code",
   "execution_count": 21,
   "metadata": {},
   "outputs": [
    {
     "name": "stdout",
     "output_type": "stream",
     "text": [
      "Coding for all\n"
     ]
    }
   ],
   "source": [
    "code='Coding For All'\n",
    "Cod= code.capitalize()\n",
    "print(Cod)\n"
   ]
  },
  {
   "cell_type": "markdown",
   "metadata": {},
   "source": [
    "avec capitalize()"
   ]
  },
  {
   "cell_type": "code",
   "execution_count": 22,
   "metadata": {},
   "outputs": [
    {
     "name": "stdout",
     "output_type": "stream",
     "text": [
      "Coding For All\n"
     ]
    }
   ],
   "source": [
    "code='Coding For All'\n",
    "Cod= code.title()\n",
    "print(Cod)"
   ]
  },
  {
   "cell_type": "markdown",
   "metadata": {},
   "source": [
    "avec title()"
   ]
  },
  {
   "cell_type": "code",
   "execution_count": 24,
   "metadata": {},
   "outputs": [
    {
     "name": "stdout",
     "output_type": "stream",
     "text": [
      "cODING fOR aLL\n"
     ]
    }
   ],
   "source": [
    "code='Coding For All'\n",
    "Cod= code.swapcase()\n",
    "print(Cod)"
   ]
  },
  {
   "cell_type": "markdown",
   "metadata": {},
   "source": [
    "avec swapcase()"
   ]
  },
  {
   "cell_type": "markdown",
   "metadata": {
    "id": "QOvVg49v8aD9"
   },
   "source": [
    "#### **Exercice 04:** \n",
    ">FR:\n",
    ">1. **Remplacez le mot `Coding` dans la chaîne `Coding For All` par `Python`.**\n",
    ">2. **Divisez la chaîne `Coding For All` en utilisant l'espace comme séparateur `(split())`.**\n",
    ">3. **Quel est le caractère à l'indice 0 dans la chaîne `Coding For All`?**\n",
    ">4. **Quel est le dernier indice de la chaîne `Coding For All` ?**\n",
    "\n",
    ">EN:\n",
    ">1. **Replace the word `Coding` in the `Coding For All` string with `Python`.**\n",
    ">2. **Split the `Coding For All` string using the space as a separator `(split())`.**.\n",
    ">3. **What is the character at index 0 in the string `Coding For All`?**.\n",
    ">4. **What is the last index of the string `Coding For All`?**."
   ]
  },
  {
   "cell_type": "code",
   "execution_count": 26,
   "metadata": {},
   "outputs": [
    {
     "name": "stdout",
     "output_type": "stream",
     "text": [
      "Python For All\n"
     ]
    }
   ],
   "source": [
    "c='Coding For All'\n",
    "print(c.replace('Coding', 'Python')) "
   ]
  },
  {
   "cell_type": "markdown",
   "metadata": {},
   "source": [
    "remplacez Coding par Python"
   ]
  },
  {
   "cell_type": "code",
   "execution_count": 30,
   "metadata": {
    "id": "Q4CYyw1r8aD-"
   },
   "outputs": [
    {
     "name": "stdout",
     "output_type": "stream",
     "text": [
      "['Coding', 'For', 'All']\n"
     ]
    }
   ],
   "source": [
    "c='Coding For All'\n",
    "print(c.split())"
   ]
  },
  {
   "cell_type": "code",
   "execution_count": 31,
   "metadata": {},
   "outputs": [
    {
     "name": "stdout",
     "output_type": "stream",
     "text": [
      "C\n"
     ]
    }
   ],
   "source": [
    "c='Coding For All'\n",
    "print(c[0])"
   ]
  },
  {
   "cell_type": "markdown",
   "metadata": {},
   "source": [
    "Le caractere a indice 0 dans la chaine 'Coding For All' est: C"
   ]
  },
  {
   "cell_type": "code",
   "execution_count": 35,
   "metadata": {},
   "outputs": [
    {
     "name": "stdout",
     "output_type": "stream",
     "text": [
      "l\n"
     ]
    }
   ],
   "source": [
    "c='Coding For All'\n",
    "print(c[-1])"
   ]
  },
  {
   "cell_type": "markdown",
   "metadata": {},
   "source": [
    " le dernier indice de la chaîne 'Coding For All' est: l'indice -1"
   ]
  },
  {
   "cell_type": "markdown",
   "metadata": {
    "id": "3D3Q3P628aD_"
   },
   "source": [
    "Exercice 05: \n",
    ">**FR: Etant donné une chaine `__s__`, afficher une chaine faite des deux premiers et\n",
    "des deux derniers caractères.**\n",
    "\n",
    ">**EN: Given a string `__s__`, display a string made of the first two and last two characters the last two characters.**"
   ]
  },
  {
   "cell_type": "code",
   "execution_count": 11,
   "metadata": {},
   "outputs": [
    {
     "name": "stdout",
     "output_type": "stream",
     "text": [
      "kaou\n"
     ]
    }
   ],
   "source": [
    "s='kancou'\n",
    "i=0\n",
    "for i in range(len(s)):\n",
    "    i=i+1\n",
    "nouveau=s[0:2]+s[i-2:i]\n",
    "print(nouveau)"
   ]
  },
  {
   "cell_type": "markdown",
   "metadata": {
    "id": "LnbrdEnY8aEA"
   },
   "source": []
  },
  {
   "cell_type": "markdown",
   "metadata": {
    "id": "vLipzQ2T8aEA"
   },
   "source": [
    "Exercice 06: \n",
    "> **FR: Afficher les textes suivants à l’aide d’une seule instruction\n",
    "`print()`** :\n",
    "\n",
    "    un peu\n",
    "    beaucoup\n",
    "    passionnément\n",
    "\n",
    "    \"je t'aime\" dit-elle\n",
    "    \n",
    "    \n",
    "> **EN: Display the following texts with a single statement\n",
    "print()`**     \n",
    "\n",
    "    a little\n",
    "    a lot\n",
    "    passionately\n",
    "\n",
    "    \"I love you\" she says"
   ]
  },
  {
   "cell_type": "code",
   "execution_count": 12,
   "metadata": {
    "id": "N8Y6B2i68aEC"
   },
   "outputs": [
    {
     "name": "stdout",
     "output_type": "stream",
     "text": [
      "un peu \n",
      " beaucoup \n",
      " passionnement \n",
      " je t'aime dit-elle\n"
     ]
    }
   ],
   "source": [
    "print(\"un peu \\n beaucoup \\n passionnement \\n je t'aime dit-elle\")"
   ]
  },
  {
   "cell_type": "markdown",
   "metadata": {
    "id": "77GI9ooS8aEC"
   },
   "source": [
    "#### **Exercice 07:** \n",
    "> **FR: Écrivez un programme pour vérifier si la lettre 'e' est présente dans le mot 'Parapluie'.**\n",
    "\n",
    "> **EN: Write a program to check if the letter 'e' is present in the word 'Umbrella'.**"
   ]
  },
  {
   "cell_type": "code",
   "execution_count": 19,
   "metadata": {
    "id": "FFdDrMKd8aEE"
   },
   "outputs": [
    {
     "name": "stdout",
     "output_type": "stream",
     "text": [
      "Faux\n",
      "Faux\n",
      "Faux\n",
      "Faux\n",
      "Faux\n",
      "Faux\n",
      "Faux\n",
      "Faux\n",
      "Vrai\n"
     ]
    }
   ],
   "source": [
    "def lettre(P):\n",
    "    i=0\n",
    "    for i in range(len(P)):\n",
    "        if P[i]=='e':\n",
    "            print('Vrai')\n",
    "        else:\n",
    "            print('Faux')\n",
    "    i=i+1\n",
    "        \n",
    "lettre('Parapluie')"
   ]
  },
  {
   "cell_type": "markdown",
   "metadata": {
    "id": "fQPHnxs18aEE"
   },
   "source": [
    "#### **Exercice 08:** \n",
    "> **FR: Demandez à l'utilisateur de saisir son prénom et son nom de famille en réponse à une seule invite. Utilisez `split()` pour extraire les noms, puis affectez chaque nom à une variable différente.**\n",
    "\n",
    "> **EN: Ask the user to enter their first and last name in response to a single prompt. Use `split()` to extract the names, then assign each name to a different variable.**"
   ]
  },
  {
   "cell_type": "code",
   "execution_count": 9,
   "metadata": {
    "id": "TINJOu3g8aEG"
   },
   "outputs": [
    {
     "name": "stdout",
     "output_type": "stream",
     "text": [
      "Veuillez saisir votre prenom et votre nom svp: kancou dableny fall\n",
      "Veuillez entrer le nombre de variables correspondants:  i j k\n",
      "kancou\n",
      "dableny\n",
      "fall\n"
     ]
    }
   ],
   "source": [
    "utilisateur=input(\"Veuillez saisir votre prenom et votre nom svp: \")\n",
    "variable=input(\"Veuillez entrer le nombre de variables correspondants: \")\n",
    "a=utilisateur.split()\n",
    "b=variable.split()\n",
    "for i in range(len(a)):\n",
    "    b[i]==a[i]\n",
    "    print(b[i])\n",
    "    i=i+1\n",
    "\n",
    "    \n",
    "    \n",
    "    \n",
    "    "
   ]
  },
  {
   "cell_type": "markdown",
   "metadata": {
    "id": "cT6btvDz8aER"
   },
   "source": [
    "#### **Exercice 09:** \n",
    "> **FR: Demandez à l'utilisateur de saisir un mot, puis imprimez la longueur de ce mot.**\n",
    "\n",
    "> **EN: Ask the user to enter a word, then print the length of the word.**\n"
   ]
  },
  {
   "cell_type": "code",
   "execution_count": 23,
   "metadata": {
    "id": "feE7z0Q18aET"
   },
   "outputs": [
    {
     "name": "stdout",
     "output_type": "stream",
     "text": [
      "Veuillez saisir un mot svp: Kancou Dableny Fall\n",
      "19\n"
     ]
    }
   ],
   "source": [
    "utilisateur=input(\"Veuillez saisir un mot svp: \")\n",
    "print(len(utilisateur))"
   ]
  },
  {
   "cell_type": "markdown",
   "metadata": {
    "id": "QGb8rYYT8aET"
   },
   "source": [
    "#### **Exercice 10:** \n",
    "> **FR: Écrivez un programme pour vérifier si le mot \"orange\" est présent dans l'expression \"Ceci est du jus d'orange\".**\n",
    "\n",
    ">**EN: Write a program to check if the word \"orange\" is present in the expression \"This is orange juice\".**"
   ]
  },
  {
   "cell_type": "code",
   "execution_count": 5,
   "metadata": {
    "id": "uLC2XFSq8aEU"
   },
   "outputs": [
    {
     "name": "stdout",
     "output_type": "stream",
     "text": [
      "Vrai\n",
      "Faux\n",
      "Faux\n",
      "Faux\n",
      "Faux\n"
     ]
    }
   ],
   "source": [
    "def lettre(P):\n",
    "    L=P.split()\n",
    "    i=0\n",
    "    for i in range(len(L)):\n",
    "        if L[i]=='Ceci':\n",
    "            print('Vrai')\n",
    "        else:\n",
    "            print('Faux')\n",
    "    i=i+1\n",
    "    \n",
    "lettre(\" Ceci est du jus d'orange\")\n",
    "        \n",
    "            \n",
    "        \n",
    "            \n",
    "    "
   ]
  },
  {
   "cell_type": "markdown",
   "metadata": {
    "id": "F4_j1vsN8aEU"
   },
   "source": [
    "#### **Exercice 11:** \n",
    "> **FR: Ecrivez un programme pour trouver la première et la dernière occurrence de la lettre 'o' et du caractère ',' dans \"Hello, World\".**\n",
    "\n",
    "> **EN: Write a program to find the first and last occurrence of the letter 'o' and the character ',' in \"Hello, World\".**"
   ]
  },
  {
   "cell_type": "code",
   "execution_count": 8,
   "metadata": {
    "id": "GAMvzqzX8aEV"
   },
   "outputs": [
    {
     "name": "stdout",
     "output_type": "stream",
     "text": [
      "['o', 'o']\n"
     ]
    },
    {
     "data": {
      "text/plain": [
       "2"
      ]
     },
     "execution_count": 8,
     "metadata": {},
     "output_type": "execute_result"
    }
   ],
   "source": [
    "def lettre(P):\n",
    "    i=0\n",
    "    L=[]\n",
    "    for i in range(len(P)):\n",
    "        if P[i]=='o':\n",
    "            L.append(P[i])\n",
    "        i=i+1\n",
    "    print(L)\n",
    "    return(len(L))\n",
    "\n",
    "lettre('Hello, World')"
   ]
  },
  {
   "cell_type": "markdown",
   "metadata": {
    "id": "r_CQjIqd8aEW"
   },
   "source": [
    "#### **Exercice 12:** \n",
    "> **FR: Écrivez un programme qui prend votre nom complet en entrée et affiche les abréviations du prénom et du second prénom, sauf le nom de famille qui est affiché tel quel. Par exemple, si votre nom est `Robert Brett Roser`, le résultat devrait être `R.B.Roser`.**\n",
    "\n",
    ">**EN: Write a program that takes your full name as input and displays the first and middle name abbreviations, except for the last name which is displayed as is. For example, if your name is `Robert Brett Roser`, the result should be `R.B.Roser`.**"
   ]
  },
  {
   "cell_type": "code",
   "execution_count": 30,
   "metadata": {
    "id": "NNWynb7Y8aEW"
   },
   "outputs": [
    {
     "name": "stdout",
     "output_type": "stream",
     "text": [
      "Veuillez saisir votre nom complet svp: Kancou Dableny Fall\n",
      "Veuillez saisir les abreviations des prenoms et laisser le nom intact svp:  K D Fall\n",
      "['K', 'D', 'Fall']\n",
      "K D Fall\n"
     ]
    }
   ],
   "source": [
    "nom_complet=input(\"Veuillez saisir votre nom complet svp: \")\n",
    "abreviation=input(\"Veuillez saisir les abreviations des prenoms et laisser le nom intact svp:  \")\n",
    "n=nom_complet.split()\n",
    "a=abreviation.split()\n",
    "print(a)\n",
    "L=[]\n",
    "for i in range(len(n)):\n",
    "    a[i]==n[i]\n",
    "    L.append(a[i])\n",
    "    i=i+1\n",
    "#L.append(a[i])\n",
    "print(\" \".join(L))"
   ]
  },
  {
   "cell_type": "markdown",
   "metadata": {
    "id": "2DkugJeo8aEW"
   },
   "source": [
    "#### **Exercice 13:** \n",
    "> **FR: Écrivez un programme pour trouver le plus grand et le plus petit mot dans la chaîne \"Ceci est un parapluie\".** \n",
    "\n",
    ">**EN: Write a program to find the largest and smallest words in the string \"This is an umbrella\".**"
   ]
  },
  {
   "cell_type": "code",
   "execution_count": null,
   "metadata": {
    "id": "NxVgnPk-8aEW"
   },
   "outputs": [],
   "source": []
  },
  {
   "cell_type": "markdown",
   "metadata": {
    "id": "BOXwh7TP8aEW"
   },
   "source": [
    "#### **Exercice 14:** \n",
    "> **FR: Écrivez un programme pour créer une nouvelle chaîne de caractères avec le mot `le` supprimé dans la phrase `C'est le lion dans la cage`.**\n",
    "\n",
    ">**EN: Write a program to create a new string with the word `the` deleted in the sentence `This is the lion in the cage`.**"
   ]
  },
  {
   "cell_type": "code",
   "execution_count": null,
   "metadata": {
    "id": "EDkYOKMb8aEX"
   },
   "outputs": [],
   "source": []
  },
  {
   "cell_type": "markdown",
   "metadata": {
    "id": "yh9w0U9j8aEX"
   },
   "source": [
    "#### **Exercice 14:** \n",
    "> **FR:Créez un programme qui demande à l'utilisateur d'entrer son nom et son âge en 2021. Imprimez un message qui lui est adressé et qui lui indique l'année où il aura 100 ans.**\n",
    "\n",
    ">**EN: Create a program that asks the user to enter their name and age in 2021. Print a message to the user that tells them the year they will be 100 years old.**"
   ]
  },
  {
   "cell_type": "code",
   "execution_count": 41,
   "metadata": {
    "id": "GvFyoDRa8aEY"
   },
   "outputs": [
    {
     "name": "stdout",
     "output_type": "stream",
     "text": [
      "Veuillez saisir votre nom et votre age en 2021 svp: 28\n",
      "Nous aurez inchaAllah 100 ans a l'annee 2093\n"
     ]
    }
   ],
   "source": [
    "utilisateur=input(\"Veuillez saisir votre nom et votre age en 2021 svp: \")\n",
    "a= (100-int(utilisateur)) + 2021 \n",
    "b=\"Nous aurez inchaAllah 100 ans a l'annee\"+' '+ str(a)\n",
    "print(b)"
   ]
  },
  {
   "cell_type": "markdown",
   "metadata": {
    "id": "2-Sc_vhb8aEY"
   },
   "source": [
    "#### **Exercice 15:** \n",
    "> **FR:Définissez la variable `x` comme la chaîne de caractères `x`= \"abcde\" .**\n",
    ">1. **Quelle est la valuer de 3*x?**\n",
    ">2. **Quelle est la valuer de x[1]?**\n",
    ">3. **Quelle est la valuer de x[-1]?**\n",
    ">4. **Quelle est la valuer de x[::2]?**\n",
    "\n",
    ">**EN: Set the variable `x` as the string `x`=\"abcde\" .**.\n",
    ">1. **What is the value of 3*x?**\n",
    ">2. **What is the value of x[1]?**\n",
    ">3. **What is the value of x[-1]?**.\n",
    ">4. **What is the value of x[::2]?**"
   ]
  },
  {
   "cell_type": "code",
   "execution_count": 10,
   "metadata": {
    "id": "E9WabTUf8aEZ"
   },
   "outputs": [
    {
     "name": "stdout",
     "output_type": "stream",
     "text": [
      "abcdeabcdeabcde\n"
     ]
    }
   ],
   "source": [
    "x='abcde'\n",
    "y=3*x\n",
    "print(y)"
   ]
  },
  {
   "cell_type": "code",
   "execution_count": 11,
   "metadata": {},
   "outputs": [
    {
     "name": "stdout",
     "output_type": "stream",
     "text": [
      "b\n"
     ]
    }
   ],
   "source": [
    "z=x[1]\n",
    "print(z)"
   ]
  },
  {
   "cell_type": "code",
   "execution_count": 12,
   "metadata": {},
   "outputs": [
    {
     "name": "stdout",
     "output_type": "stream",
     "text": [
      "e\n"
     ]
    }
   ],
   "source": [
    "w=x[-1]\n",
    "print(w)"
   ]
  },
  {
   "cell_type": "code",
   "execution_count": 13,
   "metadata": {},
   "outputs": [
    {
     "name": "stdout",
     "output_type": "stream",
     "text": [
      "ace\n"
     ]
    }
   ],
   "source": [
    "k=x[::2]\n",
    "print(k)"
   ]
  },
  {
   "cell_type": "markdown",
   "metadata": {
    "id": "sFtnj29L8aEa"
   },
   "source": [
    "#### **Exercice 16:** \n",
    ">**FR:Créez une chaîne unique contenant 5 copies de la chaîne 'abc'.**\n",
    "\n",
    ">**EN:Create a single string containing 5 copies of the string 'abc'.**"
   ]
  },
  {
   "cell_type": "code",
   "execution_count": 15,
   "metadata": {},
   "outputs": [
    {
     "name": "stdout",
     "output_type": "stream",
     "text": [
      "abcabcabcabcabc\n"
     ]
    }
   ],
   "source": [
    "fall='abc'*5\n",
    "print(fall)"
   ]
  },
  {
   "cell_type": "code",
   "execution_count": null,
   "metadata": {
    "id": "BJ12q8Dp8aEb"
   },
   "outputs": [],
   "source": []
  },
  {
   "cell_type": "markdown",
   "metadata": {
    "id": "OmIC91BU8aEc"
   },
   "source": [
    "#### **Exercice 17:** \n",
    ">**FR:Utilisez l'opérateur de multiplication pour créer une \"ligne\" de 50 tirets.**\n",
    "\n",
    ">**EN:Use the multiplication operator to create a \"line\" of 50 dashes.**"
   ]
  },
  {
   "cell_type": "code",
   "execution_count": null,
   "metadata": {
    "id": "9ruTWtlx8aEe"
   },
   "outputs": [],
   "source": []
  },
  {
   "cell_type": "markdown",
   "metadata": {
    "id": "Y8H6ln1_8aEi"
   },
   "source": [
    "#### **Exercice 18:** \n",
    ">**FR: Ecrire un programme qui demande a l'utilisateur d'entrer la temperature en degres celsius et qui retourne la temperaure en degre Fahrenheit. Formule: (0°C × 9/5) + 32 = 32°F .**\n",
    "\n",
    ">**EN: Write a program that asks the user to enter the temperature in degrees Celsius and returns the temperature in degrees Fahrenheit. Formula: (0°C × 9/5) + 32 = 32°F .**"
   ]
  },
  {
   "cell_type": "code",
   "execution_count": null,
   "metadata": {
    "id": "6WTyRFR08aEj"
   },
   "outputs": [],
   "source": []
  },
  {
   "cell_type": "markdown",
   "metadata": {
    "id": "nFg9Kr2q8aEk"
   },
   "source": [
    "\n",
    "\n",
    "<center> <b> <span style=\"color:orange;\"> 🎉 FÉLICITATIONS! / CONGRATULATIONS! 🎉 </span> </b></center>"
   ]
  }
 ],
 "metadata": {
  "colab": {
   "name": "Exercices_01_Chaînes-de-caractères.ipynb",
   "provenance": []
  },
  "kernelspec": {
   "display_name": "Python 3",
   "language": "python",
   "name": "python3"
  },
  "language_info": {
   "codemirror_mode": {
    "name": "ipython",
    "version": 3
   },
   "file_extension": ".py",
   "mimetype": "text/x-python",
   "name": "python",
   "nbconvert_exporter": "python",
   "pygments_lexer": "ipython3",
   "version": "3.6.9"
  }
 },
 "nbformat": 4,
 "nbformat_minor": 1
}
